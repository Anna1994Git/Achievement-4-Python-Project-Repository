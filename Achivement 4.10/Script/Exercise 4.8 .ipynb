{
 "cells": [
  {
   "cell_type": "code",
   "execution_count": 26,
   "id": "934f2790-8446-49a2-aad9-6a39b5f94b22",
   "metadata": {},
   "outputs": [],
   "source": [
    "# import libraries\n",
    "import pandas as pd\n",
    "import numpy as np\n",
    "import os\n"
   ]
  },
  {
   "cell_type": "code",
   "execution_count": 29,
   "id": "597ca7f3-b177-4b12-a8e0-8edadfa5658d",
   "metadata": {},
   "outputs": [],
   "source": [
    "ords_prods_merge = pd.read_pickle(r'C:\\CareerFoundary\\Achivement 4.7\\data\\Prepared Data\\ords_prods_merge.pkl')"
   ]
  },
  {
   "cell_type": "code",
   "execution_count": 5,
   "id": "87a429de-d17e-40e6-9fd0-7535e2d4213c",
   "metadata": {},
   "outputs": [
    {
     "data": {
      "text/html": [
       "<div>\n",
       "<style scoped>\n",
       "    .dataframe tbody tr th:only-of-type {\n",
       "        vertical-align: middle;\n",
       "    }\n",
       "\n",
       "    .dataframe tbody tr th {\n",
       "        vertical-align: top;\n",
       "    }\n",
       "\n",
       "    .dataframe thead th {\n",
       "        text-align: right;\n",
       "    }\n",
       "</style>\n",
       "<table border=\"1\" class=\"dataframe\">\n",
       "  <thead>\n",
       "    <tr style=\"text-align: right;\">\n",
       "      <th></th>\n",
       "      <th>order_id</th>\n",
       "      <th>user_id</th>\n",
       "      <th>eval_set</th>\n",
       "      <th>order_number</th>\n",
       "      <th>order_dow</th>\n",
       "      <th>order_hour_of_day</th>\n",
       "      <th>days_since_prior_order</th>\n",
       "      <th>product_id</th>\n",
       "      <th>add_to_cart_order</th>\n",
       "      <th>reordered</th>\n",
       "      <th>_merge</th>\n",
       "      <th>product_name</th>\n",
       "      <th>aisle_id</th>\n",
       "      <th>department_id</th>\n",
       "      <th>prices</th>\n",
       "      <th>price_label</th>\n",
       "      <th>busiest_day</th>\n",
       "      <th>slowest_day</th>\n",
       "      <th>busiest_period_of_day</th>\n",
       "    </tr>\n",
       "  </thead>\n",
       "  <tbody>\n",
       "    <tr>\n",
       "      <th>0</th>\n",
       "      <td>2539329</td>\n",
       "      <td>1</td>\n",
       "      <td>prior</td>\n",
       "      <td>1</td>\n",
       "      <td>2</td>\n",
       "      <td>8</td>\n",
       "      <td>0.0</td>\n",
       "      <td>196.0</td>\n",
       "      <td>1.0</td>\n",
       "      <td>0.0</td>\n",
       "      <td>both</td>\n",
       "      <td>Soda</td>\n",
       "      <td>77.0</td>\n",
       "      <td>7.0</td>\n",
       "      <td>9.0</td>\n",
       "      <td>Mid</td>\n",
       "      <td>Regular Day</td>\n",
       "      <td>Regular Day</td>\n",
       "      <td>Average orders</td>\n",
       "    </tr>\n",
       "    <tr>\n",
       "      <th>1</th>\n",
       "      <td>2539329</td>\n",
       "      <td>1</td>\n",
       "      <td>prior</td>\n",
       "      <td>1</td>\n",
       "      <td>2</td>\n",
       "      <td>8</td>\n",
       "      <td>0.0</td>\n",
       "      <td>14084.0</td>\n",
       "      <td>2.0</td>\n",
       "      <td>0.0</td>\n",
       "      <td>both</td>\n",
       "      <td>Organic Unsweetened Vanilla Almond Milk</td>\n",
       "      <td>91.0</td>\n",
       "      <td>16.0</td>\n",
       "      <td>12.5</td>\n",
       "      <td>Mid</td>\n",
       "      <td>Regular Day</td>\n",
       "      <td>Regular Day</td>\n",
       "      <td>Average orders</td>\n",
       "    </tr>\n",
       "    <tr>\n",
       "      <th>2</th>\n",
       "      <td>2539329</td>\n",
       "      <td>1</td>\n",
       "      <td>prior</td>\n",
       "      <td>1</td>\n",
       "      <td>2</td>\n",
       "      <td>8</td>\n",
       "      <td>0.0</td>\n",
       "      <td>12427.0</td>\n",
       "      <td>3.0</td>\n",
       "      <td>0.0</td>\n",
       "      <td>both</td>\n",
       "      <td>Original Beef Jerky</td>\n",
       "      <td>23.0</td>\n",
       "      <td>19.0</td>\n",
       "      <td>4.4</td>\n",
       "      <td>Low</td>\n",
       "      <td>Regular Day</td>\n",
       "      <td>Regular Day</td>\n",
       "      <td>Average orders</td>\n",
       "    </tr>\n",
       "    <tr>\n",
       "      <th>3</th>\n",
       "      <td>2539329</td>\n",
       "      <td>1</td>\n",
       "      <td>prior</td>\n",
       "      <td>1</td>\n",
       "      <td>2</td>\n",
       "      <td>8</td>\n",
       "      <td>0.0</td>\n",
       "      <td>26088.0</td>\n",
       "      <td>4.0</td>\n",
       "      <td>0.0</td>\n",
       "      <td>both</td>\n",
       "      <td>Aged White Cheddar Popcorn</td>\n",
       "      <td>23.0</td>\n",
       "      <td>19.0</td>\n",
       "      <td>4.7</td>\n",
       "      <td>Low</td>\n",
       "      <td>Regular Day</td>\n",
       "      <td>Regular Day</td>\n",
       "      <td>Average orders</td>\n",
       "    </tr>\n",
       "    <tr>\n",
       "      <th>4</th>\n",
       "      <td>2539329</td>\n",
       "      <td>1</td>\n",
       "      <td>prior</td>\n",
       "      <td>1</td>\n",
       "      <td>2</td>\n",
       "      <td>8</td>\n",
       "      <td>0.0</td>\n",
       "      <td>26405.0</td>\n",
       "      <td>5.0</td>\n",
       "      <td>0.0</td>\n",
       "      <td>both</td>\n",
       "      <td>XL Pick-A-Size Paper Towel Rolls</td>\n",
       "      <td>54.0</td>\n",
       "      <td>17.0</td>\n",
       "      <td>1.0</td>\n",
       "      <td>Low</td>\n",
       "      <td>Regular Day</td>\n",
       "      <td>Regular Day</td>\n",
       "      <td>Average orders</td>\n",
       "    </tr>\n",
       "  </tbody>\n",
       "</table>\n",
       "</div>"
      ],
      "text/plain": [
       "   order_id  user_id eval_set  order_number  order_dow  order_hour_of_day  \\\n",
       "0   2539329        1    prior             1          2                  8   \n",
       "1   2539329        1    prior             1          2                  8   \n",
       "2   2539329        1    prior             1          2                  8   \n",
       "3   2539329        1    prior             1          2                  8   \n",
       "4   2539329        1    prior             1          2                  8   \n",
       "\n",
       "   days_since_prior_order  product_id  add_to_cart_order  reordered _merge  \\\n",
       "0                     0.0       196.0                1.0        0.0   both   \n",
       "1                     0.0     14084.0                2.0        0.0   both   \n",
       "2                     0.0     12427.0                3.0        0.0   both   \n",
       "3                     0.0     26088.0                4.0        0.0   both   \n",
       "4                     0.0     26405.0                5.0        0.0   both   \n",
       "\n",
       "                              product_name  aisle_id  department_id  prices  \\\n",
       "0                                     Soda      77.0            7.0     9.0   \n",
       "1  Organic Unsweetened Vanilla Almond Milk      91.0           16.0    12.5   \n",
       "2                      Original Beef Jerky      23.0           19.0     4.4   \n",
       "3               Aged White Cheddar Popcorn      23.0           19.0     4.7   \n",
       "4         XL Pick-A-Size Paper Towel Rolls      54.0           17.0     1.0   \n",
       "\n",
       "  price_label  busiest_day  slowest_day busiest_period_of_day  \n",
       "0         Mid  Regular Day  Regular Day        Average orders  \n",
       "1         Mid  Regular Day  Regular Day        Average orders  \n",
       "2         Low  Regular Day  Regular Day        Average orders  \n",
       "3         Low  Regular Day  Regular Day        Average orders  \n",
       "4         Low  Regular Day  Regular Day        Average orders  "
      ]
     },
     "execution_count": 5,
     "metadata": {},
     "output_type": "execute_result"
    }
   ],
   "source": [
    "ords_prods_merge.head()"
   ]
  },
  {
   "cell_type": "code",
   "execution_count": 7,
   "id": "b61b6f91-c3f3-48d0-8ff2-1536720aa03b",
   "metadata": {},
   "outputs": [
    {
     "name": "stdout",
     "output_type": "stream",
     "text": [
      "department_id\n",
      "1.0     15.457687\n",
      "2.0     17.277920\n",
      "3.0     17.179756\n",
      "4.0     17.811403\n",
      "5.0     15.213779\n",
      "6.0     16.439806\n",
      "7.0     17.225773\n",
      "8.0     15.340520\n",
      "9.0     15.895474\n",
      "10.0    20.197148\n",
      "11.0    16.170828\n",
      "12.0    15.887622\n",
      "13.0    16.583304\n",
      "14.0    16.757377\n",
      "15.0    16.165037\n",
      "16.0    17.663250\n",
      "17.0    15.694469\n",
      "18.0    19.310397\n",
      "19.0    17.177343\n",
      "20.0    16.473447\n",
      "21.0    22.902379\n",
      "Name: order_number, dtype: float64\n"
     ]
    }
   ],
   "source": [
    "# Group the dataframe by 'department_id' and calculate the mean of 'order_number'\n",
    "order_number_mean_by_dept = ords_prods_merge.groupby('department_id')['order_number'].mean()\n",
    "\n",
    "# Print the results to see the aggregated mean\n",
    "print(order_number_mean_by_dept)\n"
   ]
  },
  {
   "cell_type": "code",
   "execution_count": 9,
   "id": "8335fb2d-90fa-40ca-b106-a30c345344d4",
   "metadata": {},
   "outputs": [
    {
     "name": "stdout",
     "output_type": "stream",
     "text": [
      "17.138388999600213\n"
     ]
    }
   ],
   "source": [
    "# Calculate the mean of the 'order_number' column for the entire dataframe\n",
    "mean_order_number = ords_prods_merge['order_number'].mean()\n",
    "\n",
    "# Print the result\n",
    "print(mean_order_number)\n"
   ]
  },
  {
   "cell_type": "code",
   "execution_count": 11,
   "id": "f57d87cf-d360-4d46-8374-cf32a5f8d9cb",
   "metadata": {},
   "outputs": [
    {
     "name": "stdout",
     "output_type": "stream",
     "text": [
      "17.138388999600213\n"
     ]
    }
   ],
   "source": [
    "# Calculate the mean of the 'order_number' column for the entire dataframe\n",
    "mean_order_number = ords_prods_merge['order_number'].mean()\n",
    "\n",
    "# Print the result\n",
    "print(mean_order_number)\n"
   ]
  },
  {
   "cell_type": "code",
   "execution_count": 13,
   "id": "74a802b9-318e-4247-922f-53375bd19898",
   "metadata": {},
   "outputs": [],
   "source": [
    "# Step 1: Calculate the number of orders for each user using 'transform()'\n",
    "ords_prods_merge['order_count'] = ords_prods_merge.groupby('user_id')['order_number'].transform('max')"
   ]
  },
  {
   "cell_type": "code",
   "execution_count": 15,
   "id": "3039593e-8951-4ed5-9e1b-0894585a64b2",
   "metadata": {},
   "outputs": [],
   "source": [
    "ords_prods_merge.loc[ords_prods_merge['order_count'] > 5, 'loyalty_flag'] = 'Loyal'\n",
    "ords_prods_merge.loc[ords_prods_merge['order_count'] <= 5, 'loyalty_flag'] = 'Non-Loyal'"
   ]
  },
  {
   "cell_type": "code",
   "execution_count": 17,
   "id": "062a9eed-5048-4b51-a34e-7270802ef6d8",
   "metadata": {},
   "outputs": [
    {
     "name": "stdout",
     "output_type": "stream",
     "text": [
      "   user_id  order_count loyalty_flag\n",
      "0        1           11        Loyal\n",
      "1        1           11        Loyal\n",
      "2        1           11        Loyal\n",
      "3        1           11        Loyal\n",
      "4        1           11        Loyal\n"
     ]
    }
   ],
   "source": [
    "print(ords_prods_merge[['user_id', 'order_count', 'loyalty_flag']].head())"
   ]
  },
  {
   "cell_type": "code",
   "execution_count": 19,
   "id": "2acfcb6f-1c18-45c7-88f1-5816057af6dc",
   "metadata": {},
   "outputs": [],
   "source": [
    "loyalty_spending_stats = ords_prods_merge.groupby('loyalty_flag')['prices'].describe()"
   ]
  },
  {
   "cell_type": "code",
   "execution_count": 21,
   "id": "688064dc-2953-4e7d-a3bb-be923552ebfa",
   "metadata": {},
   "outputs": [
    {
     "name": "stdout",
     "output_type": "stream",
     "text": [
      "                   count       mean         std  min  25%  50%   75%      max\n",
      "loyalty_flag                                                                 \n",
      "Loyal         30992664.0  11.934485  491.121606  1.0  4.2  7.4  11.3  99999.0\n",
      "Non-Loyal      1441548.0  12.984293  580.394476  1.0  4.2  7.4  11.3  99999.0\n"
     ]
    }
   ],
   "source": [
    "print(loyalty_spending_stats)"
   ]
  },
  {
   "cell_type": "code",
   "execution_count": 23,
   "id": "09b83d68-192d-47eb-a15f-6a3d8a549d8b",
   "metadata": {},
   "outputs": [
    {
     "name": "stdout",
     "output_type": "stream",
     "text": [
      "   user_id spending_flag\n",
      "0        1   Low spender\n",
      "1        1   Low spender\n",
      "2        1   Low spender\n",
      "3        1   Low spender\n",
      "4        1   Low spender\n"
     ]
    }
   ],
   "source": [
    "#Group by 'user_id' and calculate the mean of 'prices'\n",
    "user_spending = ords_prods_merge.groupby('user_id')['prices'].mean()\n",
    "#Create a new column for spending flag based on the mean price\n",
    "ords_prods_merge['spending_flag'] = ords_prods_merge['user_id'].map(lambda x: 'High spender' if user_spending[x] >= 10 else 'Low spender')\n",
    "#Check the result\n",
    "print(ords_prods_merge[['user_id', 'spending_flag']].head())\n"
   ]
  },
  {
   "cell_type": "code",
   "execution_count": 25,
   "id": "11ba73d7-ccd8-46a9-be22-3989cabf3e08",
   "metadata": {},
   "outputs": [
    {
     "name": "stdout",
     "output_type": "stream",
     "text": [
      "spending_flag\n",
      "Low spender     32001528\n",
      "High spender      640922\n",
      "Name: count, dtype: int64\n",
      "   user_id spending_flag\n",
      "0        1   Low spender\n",
      "1        1   Low spender\n",
      "2        1   Low spender\n",
      "3        1   Low spender\n",
      "4        1   Low spender\n"
     ]
    }
   ],
   "source": [
    "#Calculate the mean price of products purchased by each user\n",
    "user_avg_spending = ords_prods_merge.groupby('user_id')['prices'].mean()\n",
    "\n",
    "#Create a new column \"spending_flag\" and assign values based on conditions\n",
    "ords_prods_merge['spending_flag'] = ords_prods_merge['user_id'].map(\n",
    "    lambda x: 'High spender' if user_avg_spending[x] >= 10 else 'Low spender'\n",
    ")\n",
    "\n",
    "#Print value counts to check the distribution of spenders\n",
    "print(ords_prods_merge['spending_flag'].value_counts())\n",
    "\n",
    "# Display a sample of the new column\n",
    "print(ords_prods_merge[['user_id', 'spending_flag']].head())\n"
   ]
  },
  {
   "cell_type": "code",
   "execution_count": 31,
   "id": "a0778816-ad6e-4aab-9f67-15c4009e206e",
   "metadata": {},
   "outputs": [
    {
     "name": "stdout",
     "output_type": "stream",
     "text": [
      "order_frequency_flag\n",
      "Frequent customer        22878061\n",
      "Regular customer          7011736\n",
      "Non-frequent customer     2752653\n",
      "Name: count, dtype: int64\n",
      "   user_id order_frequency_flag\n",
      "0        1     Regular customer\n",
      "1        1     Regular customer\n",
      "2        1     Regular customer\n",
      "3        1     Regular customer\n",
      "4        1     Regular customer\n"
     ]
    }
   ],
   "source": [
    "#Calculate the median days_since_prior_order per user\n",
    "user_median_order_frequency = ords_prods_merge.groupby('user_id')['days_since_prior_order'].median()\n",
    "\n",
    "#Create a new column \"order_frequency_flag\" based on conditions\n",
    "ords_prods_merge['order_frequency_flag'] = ords_prods_merge['user_id'].map(\n",
    "    lambda x: 'Non-frequent customer' if user_median_order_frequency[x] > 20 \n",
    "    else ('Regular customer' if 10 < user_median_order_frequency[x] <= 20 \n",
    "          else 'Frequent customer')\n",
    ")\n",
    "\n",
    "# Print value counts to check the distribution\n",
    "print(ords_prods_merge['order_frequency_flag'].value_counts())\n",
    "print(ords_prods_merge[['user_id', 'order_frequency_flag']].head())"
   ]
  },
  {
   "cell_type": "code",
   "execution_count": 33,
   "id": "a0f3ef43-0993-4d43-98c3-a9186f305606",
   "metadata": {},
   "outputs": [
    {
     "name": "stdout",
     "output_type": "stream",
     "text": [
      "Dataframe successfully saved as a pickle file.\n"
     ]
    }
   ],
   "source": [
    "file_path = r'C:\\CareerFoundary\\Achivement 4.7\\data\\Prepared Data\\ords_prods_merge.pkl'\n",
    "ords_prods_merge.to_pickle(file_path)\n",
    "print(\"Dataframe successfully saved as a pickle file.\")"
   ]
  },
  {
   "cell_type": "code",
   "execution_count": null,
   "id": "9859f9bd-905f-45d0-9c45-2561b3d0764d",
   "metadata": {},
   "outputs": [],
   "source": []
  }
 ],
 "metadata": {
  "kernelspec": {
   "display_name": "Python [conda env:base] *",
   "language": "python",
   "name": "conda-base-py"
  },
  "language_info": {
   "codemirror_mode": {
    "name": "ipython",
    "version": 3
   },
   "file_extension": ".py",
   "mimetype": "text/x-python",
   "name": "python",
   "nbconvert_exporter": "python",
   "pygments_lexer": "ipython3",
   "version": "3.12.7"
  }
 },
 "nbformat": 4,
 "nbformat_minor": 5
}
